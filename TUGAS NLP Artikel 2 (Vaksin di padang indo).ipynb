{
 "cells": [
  {
   "cell_type": "code",
   "execution_count": 1,
   "id": "93467df0",
   "metadata": {},
   "outputs": [
    {
     "name": "stderr",
     "output_type": "stream",
     "text": [
      "[nltk_data] Downloading collection 'popular'\n",
      "[nltk_data]    | \n",
      "[nltk_data]    | Downloading package cmudict to\n",
      "[nltk_data]    |     C:\\Users\\MILKI\\AppData\\Roaming\\nltk_data...\n",
      "[nltk_data]    |   Package cmudict is already up-to-date!\n",
      "[nltk_data]    | Downloading package gazetteers to\n",
      "[nltk_data]    |     C:\\Users\\MILKI\\AppData\\Roaming\\nltk_data...\n",
      "[nltk_data]    |   Package gazetteers is already up-to-date!\n",
      "[nltk_data]    | Downloading package genesis to\n",
      "[nltk_data]    |     C:\\Users\\MILKI\\AppData\\Roaming\\nltk_data...\n",
      "[nltk_data]    |   Package genesis is already up-to-date!\n",
      "[nltk_data]    | Downloading package gutenberg to\n",
      "[nltk_data]    |     C:\\Users\\MILKI\\AppData\\Roaming\\nltk_data...\n",
      "[nltk_data]    |   Package gutenberg is already up-to-date!\n",
      "[nltk_data]    | Downloading package inaugural to\n",
      "[nltk_data]    |     C:\\Users\\MILKI\\AppData\\Roaming\\nltk_data...\n",
      "[nltk_data]    |   Package inaugural is already up-to-date!\n",
      "[nltk_data]    | Downloading package movie_reviews to\n",
      "[nltk_data]    |     C:\\Users\\MILKI\\AppData\\Roaming\\nltk_data...\n",
      "[nltk_data]    |   Package movie_reviews is already up-to-date!\n",
      "[nltk_data]    | Downloading package names to\n",
      "[nltk_data]    |     C:\\Users\\MILKI\\AppData\\Roaming\\nltk_data...\n",
      "[nltk_data]    |   Package names is already up-to-date!\n",
      "[nltk_data]    | Downloading package shakespeare to\n",
      "[nltk_data]    |     C:\\Users\\MILKI\\AppData\\Roaming\\nltk_data...\n",
      "[nltk_data]    |   Package shakespeare is already up-to-date!\n",
      "[nltk_data]    | Downloading package stopwords to\n",
      "[nltk_data]    |     C:\\Users\\MILKI\\AppData\\Roaming\\nltk_data...\n",
      "[nltk_data]    |   Package stopwords is already up-to-date!\n",
      "[nltk_data]    | Downloading package treebank to\n",
      "[nltk_data]    |     C:\\Users\\MILKI\\AppData\\Roaming\\nltk_data...\n",
      "[nltk_data]    |   Package treebank is already up-to-date!\n",
      "[nltk_data]    | Downloading package twitter_samples to\n",
      "[nltk_data]    |     C:\\Users\\MILKI\\AppData\\Roaming\\nltk_data...\n",
      "[nltk_data]    |   Package twitter_samples is already up-to-date!\n",
      "[nltk_data]    | Downloading package omw to\n",
      "[nltk_data]    |     C:\\Users\\MILKI\\AppData\\Roaming\\nltk_data...\n",
      "[nltk_data]    |   Package omw is already up-to-date!\n",
      "[nltk_data]    | Downloading package omw-1.4 to\n",
      "[nltk_data]    |     C:\\Users\\MILKI\\AppData\\Roaming\\nltk_data...\n",
      "[nltk_data]    |   Package omw-1.4 is already up-to-date!\n",
      "[nltk_data]    | Downloading package wordnet to\n",
      "[nltk_data]    |     C:\\Users\\MILKI\\AppData\\Roaming\\nltk_data...\n",
      "[nltk_data]    |   Package wordnet is already up-to-date!\n",
      "[nltk_data]    | Downloading package wordnet2021 to\n",
      "[nltk_data]    |     C:\\Users\\MILKI\\AppData\\Roaming\\nltk_data...\n",
      "[nltk_data]    |   Package wordnet2021 is already up-to-date!\n",
      "[nltk_data]    | Downloading package wordnet31 to\n",
      "[nltk_data]    |     C:\\Users\\MILKI\\AppData\\Roaming\\nltk_data...\n",
      "[nltk_data]    |   Package wordnet31 is already up-to-date!\n",
      "[nltk_data]    | Downloading package wordnet_ic to\n",
      "[nltk_data]    |     C:\\Users\\MILKI\\AppData\\Roaming\\nltk_data...\n",
      "[nltk_data]    |   Package wordnet_ic is already up-to-date!\n",
      "[nltk_data]    | Downloading package words to\n",
      "[nltk_data]    |     C:\\Users\\MILKI\\AppData\\Roaming\\nltk_data...\n",
      "[nltk_data]    |   Package words is already up-to-date!\n",
      "[nltk_data]    | Downloading package maxent_ne_chunker to\n",
      "[nltk_data]    |     C:\\Users\\MILKI\\AppData\\Roaming\\nltk_data...\n",
      "[nltk_data]    |   Package maxent_ne_chunker is already up-to-date!\n",
      "[nltk_data]    | Downloading package punkt to\n",
      "[nltk_data]    |     C:\\Users\\MILKI\\AppData\\Roaming\\nltk_data...\n",
      "[nltk_data]    |   Package punkt is already up-to-date!\n",
      "[nltk_data]    | Downloading package snowball_data to\n",
      "[nltk_data]    |     C:\\Users\\MILKI\\AppData\\Roaming\\nltk_data...\n",
      "[nltk_data]    |   Package snowball_data is already up-to-date!\n",
      "[nltk_data]    | Downloading package averaged_perceptron_tagger to\n",
      "[nltk_data]    |     C:\\Users\\MILKI\\AppData\\Roaming\\nltk_data...\n",
      "[nltk_data]    |   Package averaged_perceptron_tagger is already up-\n",
      "[nltk_data]    |       to-date!\n",
      "[nltk_data]    | \n",
      "[nltk_data]  Done downloading collection popular\n"
     ]
    },
    {
     "data": {
      "text/plain": [
       "True"
      ]
     },
     "execution_count": 1,
     "metadata": {},
     "output_type": "execute_result"
    }
   ],
   "source": [
    "import nltk\n",
    "nltk.download('popular')"
   ]
  },
  {
   "cell_type": "code",
   "execution_count": 2,
   "id": "927c7088",
   "metadata": {},
   "outputs": [
    {
     "name": "stdout",
     "output_type": "stream",
     "text": [
      "Requirement already satisfied: PySastrawi in c:\\users\\milki\\appdata\\local\\programs\\python\\python310\\lib\\site-packages (1.2.0)\n"
     ]
    }
   ],
   "source": [
    "!pip install PySastrawi"
   ]
  },
  {
   "cell_type": "code",
   "execution_count": 3,
   "id": "a5c23ebc",
   "metadata": {},
   "outputs": [
    {
     "name": "stdout",
     "output_type": "stream",
     "text": [
      "Requirement already satisfied: Sastrawi in c:\\users\\milki\\appdata\\local\\programs\\python\\python310\\lib\\site-packages (1.0.1)\n"
     ]
    }
   ],
   "source": [
    "!pip install Sastrawi"
   ]
  },
  {
   "cell_type": "code",
   "execution_count": 4,
   "id": "50cb51aa",
   "metadata": {},
   "outputs": [],
   "source": [
    "import pandas as pd\n",
    "import re\n",
    "from nltk.corpus import stopwords\n",
    "from nltk.tokenize import word_tokenize"
   ]
  },
  {
   "cell_type": "code",
   "execution_count": 5,
   "id": "ce6a2787",
   "metadata": {},
   "outputs": [
    {
     "name": "stdout",
     "output_type": "stream",
     "text": [
      "ï»¿Â· 16.36.20\n",
      "Â· Tentang Kami\n",
      "Â·\n",
      "\n",
      "\n",
      "\n",
      "\n",
      "Toggle navigation \n",
      "Â· Beranda\n",
      "Â· Nasional\n",
      "o Politik & Hukum\n",
      "o Ekonomi & Bisnis\n",
      "o Sosial & Budaya\n",
      "o Bencana\n",
      "o Cek Fakta\n",
      "o Lawan COVID-19\n",
      "o TV Digital\n",
      "Â· Nusantara\n",
      "Â· Sorot\n",
      "o Politik & Hukum\n",
      "o Ekonomi & Bisnis\n",
      "o Sosial & Budaya\n",
      "Â· Siaran Pers\n",
      "Â· Cerita Khas\n",
      "Â· English\n",
      "o Public Welfare\n",
      "o Art & Culture\n",
      "o Education\n",
      "o International\n",
      "o Economy & Business\n",
      "o Food & Travel\n",
      "o Politic & Law\n",
      "Â· Galeri\n",
      "o Foto\n",
      "o Video\n",
      "Â· E-Magazine\n",
      "o GPR News\n",
      "o Jurnal Dialog\n",
      "Â· G20\n",
      "Â·\n",
      "Â· Tikatkan Kapasitas, KY Selenggarakan Diklat Jabatan Fungsional Penata Kehakiman Ahli\n",
      "Â· KY Sikapi Status tersangka Hakim Agung SD\n",
      "Â· Pelajar dan PMI Pertanyakan Izin Masuk ke Malaysia\n",
      "Â· PLN Fokus Pendampingan Uji Coba Konversi Kompor Listrik\n",
      "Â· Talk to Scientists: Menuju Era Futuristik dengan Riset Kendaraan Listrik \n",
      "Â Â \n",
      "Berita Terkini\n",
      "Layanan Vaksinasi Booster di Kota Padang Sudah Bisa Didapatkan di Puskesmas dan Rumah Sakit\n",
      "Selasa, 18 Januari 2022 | 21:27 WIB\n",
      "Â |Â Penulis :Â \n",
      "MC KOTA PADANG\n",
      ", Redaktur :Â Tobari\n",
      "\n",
      "Padang, InfoPublik - Setelah terpenuhi target capaian Vaksinasi Covid-19 bagi lanjut usia (Lansia) di Kota Padang, Pemerintah pusat menginstruksikan untuk melakukan pelaksanaan Vaksinasi booster atau ketiga untuk masyarakat.\n",
      "Atas intruksi tersebut, Pemerintah Kota (Pemko) Padang, sudah mulai membuka layanan vaksinasi Covid-19 booster kepada masyarakat umum di Rumah Sakit dan Puskesmas yang berada di Kota Padang.\n",
      "Sekretaris Dinas Kesehatan (Dinkes) Kota Padang Melinda Wilma menyebutkan, dibukanya layanan vaksinansi booster kepada masyarakat kota Padang disebabkan karena capaian target vaksinasi Lansia di kota Padang sudah mencapai 70%.\n",
      "Bahkan capaian itu sudah melebihi target yang ditetapkan oleh pemerintah.Â \"Kan target dari pemerintah itu untuk vaksin Lansia sebesar 60%, dan kita di kota Padang sudah 70% sehingga bisa melaksanakan vaksinasi booster tersebut,\" sebutnya.\n",
      "Ia menyampaikan Vaksinasi booster tersebut diperuntukkan bagi masyarakat yang telah melakukan vaksinasi sebanyak dua kali.\n",
      "\"Jadi untuk bisa mendapatkan vaksinasi booster atau ketiga ini masyarakat harus sudah divaksin sebanyak dua kali dan jaraknya 6 bulan terhitung dari waktu vaksinasi Covid-19 kedua,\" jelasnya.\n",
      "Lebih lanjut ia menjelaskan untuk mendapatkan vaksinasi booster tersebut, masyarakat cukup datang ke fasilitas kesehatan seperti Puskemas dan Rumah Sakit (RS) pemerintah yang ada.\n",
      "Kemudian masyarakat menerima tiket vaksin atau e-tiket yang dibagikan di akun aplikasi PeduliLindungi.\n",
      "\"Di aplikasi PeduliLindungi tersebut pilih menu akun lalu pilih menu riwayat dan tiket vaksin, di sana jika ditemukan pemberitahuan vaksin ketiga, maka akan ada nomor tiket untuk vaksinasi booster tersebut,\" kata dia.\n",
      "Tidak itu saja kata Melinda, ketika tiba di Puskesmas maupun RS, masyarakat juga harus membawa Kartu Tanda Penduduk (KTP) untuk menunjukan NIK sebagai salah satu persyaratan mengikuti vaksinasi booster tersebut.\n",
      "\"Kalau untuk jenis vaksin booster yang akan disuntikkan tersebut, nantinya pihak Puskesmas atau RS akan menginformasikan sesuai dengan aturan yang ditetapkan oleh Kementerian Kesehatan (Kemenkes),\" katanya. (MC Padang/Marajo/toeb)\n",
      "3510 Kali \n",
      "Â  Anda dapat menyiarkan ulang, menulis ulang, dan atau menyalin konten ini dengan mencantumkan sumber InfoPublik.id\n",
      "Â·\n",
      "Â·\n",
      "Â·\n",
      "Berita Terpopuler\n",
      "\n",
      "Gubernur Khofifah Berangkatkan Puluhan Truk Untuk Operasi Pasar Lumbung Pangan Jatim di 25 Titik Pasar \n",
      "Minggu, 25 September 2022 | 17:52 WIB | Oleh MC PROV JAWA TIMUR\n",
      "\n",
      "Komisi IV DPRD Kalsel Apresiasi Upaya Pembinaan Perpustakaan Daerah Dispersip Kalsel\n",
      "Minggu, 25 September 2022 | 20:45 WIB | Oleh MC Prov. Kalimantan Selatan\n",
      "\n",
      "Sambut Kehadiran Presiden, Pelajar di Ternate Bersihkan Jalan Utama\n",
      "Senin, 26 September 2022 | 09:05 WIB | Oleh MC KOTA TIDORE\n",
      "\n",
      "Bupati Agam: Kolaborasi dan Koordinasi Pemkab Agam, LKAAM, KAN, dan Niniak Mamak\n",
      "Senin, 26 September 2022 | 08:06 WIB | Oleh MC KAB AGAM\n",
      "\n",
      "Tokoh Pemuda Dukung KPK Tuntaskan Dugaan Korupsi Gubernur Papua\n",
      "Minggu, 25 September 2022 | 17:48 WIB | Oleh Eko Budiono\n",
      "\n",
      "Menkumham: Inovasi Kekayaan Intelektual Berbanding Lurus dengan Kemajuan\n",
      "Minggu, 25 September 2022 | 11:52 WIB | Oleh Eko Budiono\n",
      "\n",
      "Tokoh Agama Imbau Masyarakat tak Terprovokasi Kasus Gubernur Papua\n",
      "Minggu, 25 September 2022 | 17:47 WIB | Oleh Eko Budiono\n",
      "\n",
      "Farid Nyak Umar Ajak Generasi Milenial Perkuat Syariat Islam Lewat Medsos\n",
      "Minggu, 25 September 2022 | 15:32 WIB | Oleh MC KOTA BANDA ACEH\n",
      "\n",
      "Bandara Kualanamu Tingkatkan Kapasitas Melalui Program ICA\n",
      "Minggu, 25 September 2022 | 20:59 WIB | Oleh Dian Thenniarti\n",
      "\n",
      "BI Proyeksikan Pertumbuhan Ekonomi hingga 5,3%\n",
      "Minggu, 25 September 2022 | 21:48 WIB | Oleh lsma\n",
      "Twitter @InfoPublikIP\n",
      "Galeri Foto\n",
      "\n",
      "\n",
      "\n",
      "\n",
      "\n",
      "Hubungi Kami\n",
      "Â· InfoPublik\n",
      "Â· Jl. Medan Merdeka Barat no. 9, Jakarta 10110\n",
      "Â· infopublik@kominfo.go.id\n",
      "Â· infopublik.id\n",
      "Berita Terkini\n",
      "Â· Nusantara \n",
      "Â· Siaran Pers \n",
      "Â· Cerita Khas \n",
      "Â· G20 \n",
      "Copyright Â© 2018 InfoPublik. All rights reserved. \n",
      "Â·\n",
      "Â·\n",
      "Â·\n",
      "top \n",
      "\n"
     ]
    }
   ],
   "source": [
    "f = open('C:/DATA MILKI/KULIAH STT CIPASUNG/NLP/TUGAS/InfoPublik - Layanan Vaksinasi Booster di Kota Padang Sudah Bisa Didapatkan di Puskesmas dan Rumah Sakit.txt', 'r')\n",
    "isi_berita = f.read()\n",
    "print(isi_berita)"
   ]
  },
  {
   "cell_type": "code",
   "execution_count": 6,
   "id": "ff28c199",
   "metadata": {},
   "outputs": [
    {
     "name": "stdout",
     "output_type": "stream",
     "text": [
      "['ï', '»', '¿Â·', '16.36.20', 'Â·', 'Tentang', 'Kami', 'Â·', 'Toggle', 'navigation', 'Â·', 'Beranda', 'Â·', 'Nasional', 'o', 'Politik', '&', 'Hukum', 'o', 'Ekonomi', '&', 'Bisnis', 'o', 'Sosial', '&', 'Budaya', 'o', 'Bencana', 'o', 'Cek', 'Fakta', 'o', 'Lawan', 'COVID-19', 'o', 'TV', 'Digital', 'Â·', 'Nusantara', 'Â·', 'Sorot', 'o', 'Politik', '&', 'Hukum', 'o', 'Ekonomi', '&', 'Bisnis', 'o', 'Sosial', '&', 'Budaya', 'Â·', 'Siaran', 'Pers', 'Â·', 'Cerita', 'Khas', 'Â·', 'English', 'o', 'Public', 'Welfare', 'o', 'Art', '&', 'Culture', 'o', 'Education', 'o', 'International', 'o', 'Economy', '&', 'Business', 'o', 'Food', '&', 'Travel', 'o', 'Politic', '&', 'Law', 'Â·', 'Galeri', 'o', 'Foto', 'o', 'Video', 'Â·', 'E-Magazine', 'o', 'GPR', 'News', 'o', 'Jurnal', 'Dialog', 'Â·', 'G20', 'Â·', 'Â·', 'Tikatkan', 'Kapasitas', ',', 'KY', 'Selenggarakan', 'Diklat', 'Jabatan', 'Fungsional', 'Penata', 'Kehakiman', 'Ahli', 'Â·', 'KY', 'Sikapi', 'Status', 'tersangka', 'Hakim', 'Agung', 'SD', 'Â·', 'Pelajar', 'dan', 'PMI', 'Pertanyakan', 'Izin', 'Masuk', 'ke', 'Malaysia', 'Â·', 'PLN', 'Fokus', 'Pendampingan', 'Uji', 'Coba', 'Konversi', 'Kompor', 'Listrik', 'Â·', 'Talk', 'to', 'Scientists', ':', 'Menuju', 'Era', 'Futuristik', 'dengan', 'Riset', 'Kendaraan', 'Listrik', 'Â', 'Â', 'Berita', 'Terkini', 'Layanan', 'Vaksinasi', 'Booster', 'di', 'Kota', 'Padang', 'Sudah', 'Bisa', 'Didapatkan', 'di', 'Puskesmas', 'dan', 'Rumah', 'Sakit', 'Selasa', ',', '18', 'Januari', '2022', '|', '21:27', 'WIB', 'Â', '|Â', 'Penulis', ':', 'Â', 'MC', 'KOTA', 'PADANG', ',', 'Redaktur', ':', 'Â', 'Tobari', 'Padang', ',', 'InfoPublik', '-', 'Setelah', 'terpenuhi', 'target', 'capaian', 'Vaksinasi', 'Covid-19', 'bagi', 'lanjut', 'usia', '(', 'Lansia', ')', 'di', 'Kota', 'Padang', ',', 'Pemerintah', 'pusat', 'menginstruksikan', 'untuk', 'melakukan', 'pelaksanaan', 'Vaksinasi', 'booster', 'atau', 'ketiga', 'untuk', 'masyarakat', '.', 'Atas', 'intruksi', 'tersebut', ',', 'Pemerintah', 'Kota', '(', 'Pemko', ')', 'Padang', ',', 'sudah', 'mulai', 'membuka', 'layanan', 'vaksinasi', 'Covid-19', 'booster', 'kepada', 'masyarakat', 'umum', 'di', 'Rumah', 'Sakit', 'dan', 'Puskesmas', 'yang', 'berada', 'di', 'Kota', 'Padang', '.', 'Sekretaris', 'Dinas', 'Kesehatan', '(', 'Dinkes', ')', 'Kota', 'Padang', 'Melinda', 'Wilma', 'menyebutkan', ',', 'dibukanya', 'layanan', 'vaksinansi', 'booster', 'kepada', 'masyarakat', 'kota', 'Padang', 'disebabkan', 'karena', 'capaian', 'target', 'vaksinasi', 'Lansia', 'di', 'kota', 'Padang', 'sudah', 'mencapai', '70', '%', '.', 'Bahkan', 'capaian', 'itu', 'sudah', 'melebihi', 'target', 'yang', 'ditetapkan', 'oleh', 'pemerintah.Â', \"''\", 'Kan', 'target', 'dari', 'pemerintah', 'itu', 'untuk', 'vaksin', 'Lansia', 'sebesar', '60', '%', ',', 'dan', 'kita', 'di', 'kota', 'Padang', 'sudah', '70', '%', 'sehingga', 'bisa', 'melaksanakan', 'vaksinasi', 'booster', 'tersebut', ',', \"''\", 'sebutnya', '.', 'Ia', 'menyampaikan', 'Vaksinasi', 'booster', 'tersebut', 'diperuntukkan', 'bagi', 'masyarakat', 'yang', 'telah', 'melakukan', 'vaksinasi', 'sebanyak', 'dua', 'kali', '.', '``', 'Jadi', 'untuk', 'bisa', 'mendapatkan', 'vaksinasi', 'booster', 'atau', 'ketiga', 'ini', 'masyarakat', 'harus', 'sudah', 'divaksin', 'sebanyak', 'dua', 'kali', 'dan', 'jaraknya', '6', 'bulan', 'terhitung', 'dari', 'waktu', 'vaksinasi', 'Covid-19', 'kedua', ',', \"''\", 'jelasnya', '.', 'Lebih', 'lanjut', 'ia', 'menjelaskan', 'untuk', 'mendapatkan', 'vaksinasi', 'booster', 'tersebut', ',', 'masyarakat', 'cukup', 'datang', 'ke', 'fasilitas', 'kesehatan', 'seperti', 'Puskemas', 'dan', 'Rumah', 'Sakit', '(', 'RS', ')', 'pemerintah', 'yang', 'ada', '.', 'Kemudian', 'masyarakat', 'menerima', 'tiket', 'vaksin', 'atau', 'e-tiket', 'yang', 'dibagikan', 'di', 'akun', 'aplikasi', 'PeduliLindungi', '.', '``', 'Di', 'aplikasi', 'PeduliLindungi', 'tersebut', 'pilih', 'menu', 'akun', 'lalu', 'pilih', 'menu', 'riwayat', 'dan', 'tiket', 'vaksin', ',', 'di', 'sana', 'jika', 'ditemukan', 'pemberitahuan', 'vaksin', 'ketiga', ',', 'maka', 'akan', 'ada', 'nomor', 'tiket', 'untuk', 'vaksinasi', 'booster', 'tersebut', ',', \"''\", 'kata', 'dia', '.', 'Tidak', 'itu', 'saja', 'kata', 'Melinda', ',', 'ketika', 'tiba', 'di', 'Puskesmas', 'maupun', 'RS', ',', 'masyarakat', 'juga', 'harus', 'membawa', 'Kartu', 'Tanda', 'Penduduk', '(', 'KTP', ')', 'untuk', 'menunjukan', 'NIK', 'sebagai', 'salah', 'satu', 'persyaratan', 'mengikuti', 'vaksinasi', 'booster', 'tersebut', '.', '``', 'Kalau', 'untuk', 'jenis', 'vaksin', 'booster', 'yang', 'akan', 'disuntikkan', 'tersebut', ',', 'nantinya', 'pihak', 'Puskesmas', 'atau', 'RS', 'akan', 'menginformasikan', 'sesuai', 'dengan', 'aturan', 'yang', 'ditetapkan', 'oleh', 'Kementerian', 'Kesehatan', '(', 'Kemenkes', ')', ',', \"''\", 'katanya', '.', '(', 'MC', 'Padang/Marajo/toeb', ')', '3510', 'Kali', 'Â', 'Anda', 'dapat', 'menyiarkan', 'ulang', ',', 'menulis', 'ulang', ',', 'dan', 'atau', 'menyalin', 'konten', 'ini', 'dengan', 'mencantumkan', 'sumber', 'InfoPublik.id', 'Â·', 'Â·', 'Â·', 'Berita', 'Terpopuler', 'Gubernur', 'Khofifah', 'Berangkatkan', 'Puluhan', 'Truk', 'Untuk', 'Operasi', 'Pasar', 'Lumbung', 'Pangan', 'Jatim', 'di', '25', 'Titik', 'Pasar', 'Minggu', ',', '25', 'September', '2022', '|', '17:52', 'WIB', '|', 'Oleh', 'MC', 'PROV', 'JAWA', 'TIMUR', 'Komisi', 'IV', 'DPRD', 'Kalsel', 'Apresiasi', 'Upaya', 'Pembinaan', 'Perpustakaan', 'Daerah', 'Dispersip', 'Kalsel', 'Minggu', ',', '25', 'September', '2022', '|', '20:45', 'WIB', '|', 'Oleh', 'MC', 'Prov', '.', 'Kalimantan', 'Selatan', 'Sambut', 'Kehadiran', 'Presiden', ',', 'Pelajar', 'di', 'Ternate', 'Bersihkan', 'Jalan', 'Utama', 'Senin', ',', '26', 'September', '2022', '|', '09:05', 'WIB', '|', 'Oleh', 'MC', 'KOTA', 'TIDORE', 'Bupati', 'Agam', ':', 'Kolaborasi', 'dan', 'Koordinasi', 'Pemkab', 'Agam', ',', 'LKAAM', ',', 'KAN', ',', 'dan', 'Niniak', 'Mamak', 'Senin', ',', '26', 'September', '2022', '|', '08:06', 'WIB', '|', 'Oleh', 'MC', 'KAB', 'AGAM', 'Tokoh', 'Pemuda', 'Dukung', 'KPK', 'Tuntaskan', 'Dugaan', 'Korupsi', 'Gubernur', 'Papua', 'Minggu', ',', '25', 'September', '2022', '|', '17:48', 'WIB', '|', 'Oleh', 'Eko', 'Budiono', 'Menkumham', ':', 'Inovasi', 'Kekayaan', 'Intelektual', 'Berbanding', 'Lurus', 'dengan', 'Kemajuan', 'Minggu', ',', '25', 'September', '2022', '|', '11:52', 'WIB', '|', 'Oleh', 'Eko', 'Budiono', 'Tokoh', 'Agama', 'Imbau', 'Masyarakat', 'tak', 'Terprovokasi', 'Kasus', 'Gubernur', 'Papua', 'Minggu', ',', '25', 'September', '2022', '|', '17:47', 'WIB', '|', 'Oleh', 'Eko', 'Budiono', 'Farid', 'Nyak', 'Umar', 'Ajak', 'Generasi', 'Milenial', 'Perkuat', 'Syariat', 'Islam', 'Lewat', 'Medsos', 'Minggu', ',', '25', 'September', '2022', '|', '15:32', 'WIB', '|', 'Oleh', 'MC', 'KOTA', 'BANDA', 'ACEH', 'Bandara', 'Kualanamu', 'Tingkatkan', 'Kapasitas', 'Melalui', 'Program', 'ICA', 'Minggu', ',', '25', 'September', '2022', '|', '20:59', 'WIB', '|', 'Oleh', 'Dian', 'Thenniarti', 'BI', 'Proyeksikan', 'Pertumbuhan', 'Ekonomi', 'hingga', '5,3', '%', 'Minggu', ',', '25', 'September', '2022', '|', '21:48', 'WIB', '|', 'Oleh', 'lsma', 'Twitter', '@', 'InfoPublikIP', 'Galeri', 'Foto', 'Hubungi', 'Kami', 'Â·', 'InfoPublik', 'Â·', 'Jl', '.', 'Medan', 'Merdeka', 'Barat', 'no', '.', '9', ',', 'Jakarta', '10110', 'Â·', 'infopublik', '@', 'kominfo.go.id', 'Â·', 'infopublik.id', 'Berita', 'Terkini', 'Â·', 'Nusantara', 'Â·', 'Siaran', 'Pers', 'Â·', 'Cerita', 'Khas', 'Â·', 'G20', 'Copyright', 'Â©', '2018', 'InfoPublik', '.', 'All', 'rights', 'reserved', '.', 'Â·', 'Â·', 'Â·', 'top']\n"
     ]
    }
   ],
   "source": [
    "word_tokens = word_tokenize(isi_berita)\n",
    "print(word_tokens)"
   ]
  },
  {
   "cell_type": "code",
   "execution_count": 7,
   "id": "f51885af",
   "metadata": {},
   "outputs": [
    {
     "name": "stdout",
     "output_type": "stream",
     "text": [
      "['ï', '»', '¿Â·', '16.36.20', 'Â·', 'Tentang', 'Kami', 'Â·', 'Toggle', 'navigation', 'Â·', 'Beranda', 'Â·', 'Nasional', 'o', 'Politik', '&', 'Hukum', 'o', 'Ekonomi', '&', 'Bisnis', 'o', 'Sosial', '&', 'Budaya', 'o', 'Bencana', 'o', 'Cek', 'Fakta', 'o', 'Lawan', 'COVID-19', 'o', 'TV', 'Digital', 'Â·', 'Nusantara', 'Â·', 'Sorot', 'o', 'Politik', '&', 'Hukum', 'o', 'Ekonomi', '&', 'Bisnis', 'o', 'Sosial', '&', 'Budaya', 'Â·', 'Siaran', 'Pers', 'Â·', 'Cerita', 'Khas', 'Â·', 'English', 'o', 'Public', 'Welfare', 'o', 'Art', '&', 'Culture', 'o', 'Education', 'o', 'International', 'o', 'Economy', '&', 'Business', 'o', 'Food', '&', 'Travel', 'o', 'Politic', '&', 'Law', 'Â·', 'Galeri', 'o', 'Foto', 'o', 'Video', 'Â·', 'E-Magazine', 'o', 'GPR', 'News', 'o', 'Jurnal', 'Dialog', 'Â·', 'G20', 'Â·', 'Â·', 'Tikatkan', 'Kapasitas', ',', 'KY', 'Selenggarakan', 'Diklat', 'Jabatan', 'Fungsional', 'Penata', 'Kehakiman', 'Ahli', 'Â·', 'KY', 'Sikapi', 'Status', 'tersangka', 'Hakim', 'Agung', 'SD', 'Â·', 'Pelajar', 'PMI', 'Pertanyakan', 'Izin', 'Masuk', 'Malaysia', 'Â·', 'PLN', 'Fokus', 'Pendampingan', 'Uji', 'Coba', 'Konversi', 'Kompor', 'Listrik', 'Â·', 'Talk', 'to', 'Scientists', ':', 'Menuju', 'Era', 'Futuristik', 'Riset', 'Kendaraan', 'Listrik', 'Â', 'Â', 'Berita', 'Terkini', 'Layanan', 'Vaksinasi', 'Booster', 'Kota', 'Padang', 'Sudah', 'Bisa', 'Didapatkan', 'Puskesmas', 'Rumah', 'Sakit', 'Selasa', ',', '18', 'Januari', '2022', '|', '21:27', 'WIB', 'Â', '|Â', 'Penulis', ':', 'Â', 'MC', 'KOTA', 'PADANG', ',', 'Redaktur', ':', 'Â', 'Tobari', 'Padang', ',', 'InfoPublik', '-', 'Setelah', 'terpenuhi', 'target', 'capaian', 'Vaksinasi', 'Covid-19', 'usia', '(', 'Lansia', ')', 'Kota', 'Padang', ',', 'Pemerintah', 'pusat', 'menginstruksikan', 'pelaksanaan', 'Vaksinasi', 'booster', 'ketiga', 'masyarakat', '.', 'Atas', 'intruksi', ',', 'Pemerintah', 'Kota', '(', 'Pemko', ')', 'Padang', ',', 'membuka', 'layanan', 'vaksinasi', 'Covid-19', 'booster', 'masyarakat', 'Rumah', 'Sakit', 'Puskesmas', 'Kota', 'Padang', '.', 'Sekretaris', 'Dinas', 'Kesehatan', '(', 'Dinkes', ')', 'Kota', 'Padang', 'Melinda', 'Wilma', ',', 'dibukanya', 'layanan', 'vaksinansi', 'booster', 'masyarakat', 'kota', 'Padang', 'disebabkan', 'capaian', 'target', 'vaksinasi', 'Lansia', 'kota', 'Padang', 'mencapai', '70', '%', '.', 'Bahkan', 'capaian', 'melebihi', 'target', 'ditetapkan', 'pemerintah.Â', \"''\", 'Kan', 'target', 'pemerintah', 'vaksin', 'Lansia', '60', '%', ',', 'kota', 'Padang', '70', '%', 'melaksanakan', 'vaksinasi', 'booster', ',', \"''\", '.', 'Ia', 'Vaksinasi', 'booster', 'diperuntukkan', 'masyarakat', 'vaksinasi', 'kali', '.', '``', 'Jadi', 'vaksinasi', 'booster', 'ketiga', 'masyarakat', 'divaksin', 'kali', 'jaraknya', '6', 'terhitung', 'vaksinasi', 'Covid-19', ',', \"''\", '.', 'Lebih', 'vaksinasi', 'booster', ',', 'masyarakat', 'fasilitas', 'kesehatan', 'Puskemas', 'Rumah', 'Sakit', '(', 'RS', ')', 'pemerintah', '.', 'Kemudian', 'masyarakat', 'menerima', 'tiket', 'vaksin', 'e-tiket', 'dibagikan', 'akun', 'aplikasi', 'PeduliLindungi', '.', '``', 'Di', 'aplikasi', 'PeduliLindungi', 'pilih', 'menu', 'akun', 'pilih', 'menu', 'riwayat', 'tiket', 'vaksin', ',', 'ditemukan', 'pemberitahuan', 'vaksin', 'ketiga', ',', 'nomor', 'tiket', 'vaksinasi', 'booster', ',', \"''\", '.', 'Tidak', 'Melinda', ',', 'Puskesmas', 'RS', ',', 'masyarakat', 'membawa', 'Kartu', 'Tanda', 'Penduduk', '(', 'KTP', ')', 'menunjukan', 'NIK', 'salah', 'persyaratan', 'mengikuti', 'vaksinasi', 'booster', '.', '``', 'Kalau', 'jenis', 'vaksin', 'booster', 'disuntikkan', ',', 'Puskesmas', 'RS', 'menginformasikan', 'sesuai', 'aturan', 'ditetapkan', 'Kementerian', 'Kesehatan', '(', 'Kemenkes', ')', ',', \"''\", '.', '(', 'MC', 'Padang/Marajo/toeb', ')', '3510', 'Kali', 'Â', 'Anda', 'menyiarkan', 'ulang', ',', 'menulis', 'ulang', ',', 'menyalin', 'konten', 'mencantumkan', 'sumber', 'InfoPublik.id', 'Â·', 'Â·', 'Â·', 'Berita', 'Terpopuler', 'Gubernur', 'Khofifah', 'Berangkatkan', 'Puluhan', 'Truk', 'Untuk', 'Operasi', 'Pasar', 'Lumbung', 'Pangan', 'Jatim', '25', 'Titik', 'Pasar', 'Minggu', ',', '25', 'September', '2022', '|', '17:52', 'WIB', '|', 'Oleh', 'MC', 'PROV', 'JAWA', 'TIMUR', 'Komisi', 'IV', 'DPRD', 'Kalsel', 'Apresiasi', 'Upaya', 'Pembinaan', 'Perpustakaan', 'Daerah', 'Dispersip', 'Kalsel', 'Minggu', ',', '25', 'September', '2022', '|', '20:45', 'WIB', '|', 'Oleh', 'MC', 'Prov', '.', 'Kalimantan', 'Selatan', 'Sambut', 'Kehadiran', 'Presiden', ',', 'Pelajar', 'Ternate', 'Bersihkan', 'Jalan', 'Utama', 'Senin', ',', '26', 'September', '2022', '|', '09:05', 'WIB', '|', 'Oleh', 'MC', 'KOTA', 'TIDORE', 'Bupati', 'Agam', ':', 'Kolaborasi', 'Koordinasi', 'Pemkab', 'Agam', ',', 'LKAAM', ',', 'KAN', ',', 'Niniak', 'Mamak', 'Senin', ',', '26', 'September', '2022', '|', '08:06', 'WIB', '|', 'Oleh', 'MC', 'KAB', 'AGAM', 'Tokoh', 'Pemuda', 'Dukung', 'KPK', 'Tuntaskan', 'Dugaan', 'Korupsi', 'Gubernur', 'Papua', 'Minggu', ',', '25', 'September', '2022', '|', '17:48', 'WIB', '|', 'Oleh', 'Eko', 'Budiono', 'Menkumham', ':', 'Inovasi', 'Kekayaan', 'Intelektual', 'Berbanding', 'Lurus', 'Kemajuan', 'Minggu', ',', '25', 'September', '2022', '|', '11:52', 'WIB', '|', 'Oleh', 'Eko', 'Budiono', 'Tokoh', 'Agama', 'Imbau', 'Masyarakat', 'Terprovokasi', 'Kasus', 'Gubernur', 'Papua', 'Minggu', ',', '25', 'September', '2022', '|', '17:47', 'WIB', '|', 'Oleh', 'Eko', 'Budiono', 'Farid', 'Nyak', 'Umar', 'Ajak', 'Generasi', 'Milenial', 'Perkuat', 'Syariat', 'Islam', 'Lewat', 'Medsos', 'Minggu', ',', '25', 'September', '2022', '|', '15:32', 'WIB', '|', 'Oleh', 'MC', 'KOTA', 'BANDA', 'ACEH', 'Bandara', 'Kualanamu', 'Tingkatkan', 'Kapasitas', 'Melalui', 'Program', 'ICA', 'Minggu', ',', '25', 'September', '2022', '|', '20:59', 'WIB', '|', 'Oleh', 'Dian', 'Thenniarti', 'BI', 'Proyeksikan', 'Pertumbuhan', 'Ekonomi', '5,3', '%', 'Minggu', ',', '25', 'September', '2022', '|', '21:48', 'WIB', '|', 'Oleh', 'lsma', 'Twitter', '@', 'InfoPublikIP', 'Galeri', 'Foto', 'Hubungi', 'Kami', 'Â·', 'InfoPublik', 'Â·', 'Jl', '.', 'Medan', 'Merdeka', 'Barat', 'no', '.', '9', ',', 'Jakarta', '10110', 'Â·', 'infopublik', '@', 'kominfo.go.id', 'Â·', 'infopublik.id', 'Berita', 'Terkini', 'Â·', 'Nusantara', 'Â·', 'Siaran', 'Pers', 'Â·', 'Cerita', 'Khas', 'Â·', 'G20', 'Copyright', 'Â©', '2018', 'InfoPublik', '.', 'All', 'rights', 'reserved', '.', 'Â·', 'Â·', 'Â·', 'top']\n"
     ]
    }
   ],
   "source": [
    "stop_words = set(stopwords.words('indonesian'))\n",
    "word_tokens_no_stopwords = [w for w in word_tokens if not w in stop_words]\n",
    "print(word_tokens_no_stopwords)"
   ]
  },
  {
   "cell_type": "code",
   "execution_count": 8,
   "id": "ef8606fd",
   "metadata": {},
   "outputs": [
    {
     "name": "stdout",
     "output_type": "stream",
     "text": [
      "[(',', 36), ('Â·', 32), ('o', 21), ('|', 21), ('.', 16), ('di', 12), ('2022', 11), ('WIB', 11), ('&', 10), ('dan', 10), ('booster', 10), ('September', 10), ('Oleh', 10), ('Padang', 9), ('vaksinasi', 9), ('25', 9), ('untuk', 8), ('masyarakat', 8), ('tersebut', 8), ('Minggu', 8), ('MC', 7), ('(', 7), (')', 7), ('yang', 7), ('Â', 6)]\n",
      "\n",
      "[(',', 36), ('Â·', 32), ('o', 21), ('|', 21), ('.', 16), ('2022', 11), ('WIB', 11), ('&', 10), ('booster', 10), ('September', 10), ('Oleh', 10), ('Padang', 9), ('vaksinasi', 9), ('25', 9), ('masyarakat', 8), ('Minggu', 8), ('MC', 7), ('(', 7), (')', 7), ('Â', 6), (':', 5), ('Kota', 5), (\"''\", 5), ('vaksin', 5), ('Vaksinasi', 4)]\n"
     ]
    }
   ],
   "source": [
    "freq_kata_1 = nltk.FreqDist(word_tokens)\n",
    "freq_kata_2 = nltk.FreqDist(word_tokens_no_stopwords)\n",
    "print(freq_kata_1.most_common(25))\n",
    "print()\n",
    "print(freq_kata_2.most_common(25))"
   ]
  },
  {
   "cell_type": "code",
   "execution_count": null,
   "id": "04ee4d8a",
   "metadata": {},
   "outputs": [],
   "source": []
  }
 ],
 "metadata": {
  "kernelspec": {
   "display_name": "Python 3 (ipykernel)",
   "language": "python",
   "name": "python3"
  },
  "language_info": {
   "codemirror_mode": {
    "name": "ipython",
    "version": 3
   },
   "file_extension": ".py",
   "mimetype": "text/x-python",
   "name": "python",
   "nbconvert_exporter": "python",
   "pygments_lexer": "ipython3",
   "version": "3.10.7"
  }
 },
 "nbformat": 4,
 "nbformat_minor": 5
}
